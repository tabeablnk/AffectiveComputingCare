{
  "nbformat": 4,
  "nbformat_minor": 0,
  "metadata": {
    "colab": {
      "name": "Emotion Recognition.ipynb",
      "provenance": [],
      "collapsed_sections": []
    },
    "kernelspec": {
      "display_name": "Python 3",
      "language": "python",
      "name": "python3"
    },
    "language_info": {
      "codemirror_mode": {
        "name": "ipython",
        "version": 3
      },
      "file_extension": ".py",
      "mimetype": "text/x-python",
      "name": "python",
      "nbconvert_exporter": "python",
      "pygments_lexer": "ipython3",
      "version": "3.8.3"
    },
    "accelerator": "GPU"
  },
  "cells": [
    {
      "cell_type": "code",
      "metadata": {
        "id": "mATYOrgHo00R"
      },
      "source": [
        "import tensorflow as tf\n",
        "import cv2\n",
        "from tensorflow.keras.models import Sequential\n",
        "from tensorflow.keras.layers import Conv2D, MaxPooling2D, AveragePooling2D\n",
        "from tensorflow.keras.layers import Activation, Dropout, Flatten, Dense\n",
        "from tensorflow.keras.preprocessing.image import ImageDataGenerator\n",
        "from tensorflow.keras import applications\n",
        "import numpy as np\n",
        "from tensorflow.keras.utils import to_categorical  \n",
        "from tensorflow.keras.layers import Conv2D, MaxPooling2D, Input\n",
        "from tensorflow.keras.models import Model\n",
        "from tensorflow.keras.models import load_model\n",
        "import matplotlib.pyplot as plt\n",
        "import pandas as pd\n",
        "import matplotlib.pyplot as plt\n",
        "from matplotlib import pyplot as plt\n",
        "from scipy import interpolate"
      ],
      "execution_count": null,
      "outputs": []
    },
    {
      "cell_type": "code",
      "metadata": {
        "id": "nBcsEekPo3il"
      },
      "source": [
        "batch_size = 64\n",
        "img_width,img_height = 48,48\n",
        "\n",
        "#ORIGINAL CLASSES 0=Angry, 1=Disgust, 2=Fear, 3=Happy, 4=Sad, 5=Surprise, 6=Neutral\n",
        "num_classes = 3 \n",
        "\n",
        "CSV_FILE=\"../assets/fer2013.csv\""
      ],
      "execution_count": null,
      "outputs": []
    },
    {
      "cell_type": "markdown",
      "metadata": {
        "id": "dV-hSX18dAp9"
      },
      "source": [
        "## Load Google Drive"
      ]
    },
    {
      "cell_type": "code",
      "metadata": {
        "colab": {
          "base_uri": "https://localhost:8080/"
        },
        "id": "aS8tJtd8de1U",
        "outputId": "002c116b-922b-4442-b5ab-72a0342fa2f3"
      },
      "source": [
        "from google.colab import drive\n",
        "drive.mount('/content/drive')"
      ],
      "execution_count": null,
      "outputs": [
        {
          "output_type": "stream",
          "text": [
            "Mounted at /content/drive\n"
          ],
          "name": "stdout"
        }
      ]
    },
    {
      "cell_type": "code",
      "metadata": {
        "id": "UweETfdVdup4"
      },
      "source": [
        "CSV_FILE=\"/content/drive/My Drive/fer2013.csv\" # please adjust the path\n",
        "model_path = '/content/drive/My Drive/emotion_model_small.h5' # please adjust the path"
      ],
      "execution_count": null,
      "outputs": []
    },
    {
      "cell_type": "markdown",
      "metadata": {
        "id": "GgLdc8lZYMf0"
      },
      "source": [
        "## Prepare data "
      ]
    },
    {
      "cell_type": "code",
      "metadata": {
        "id": "qdgY0j_4Tkhs"
      },
      "source": [
        "def _load_fer():\n",
        "    # Load training and eval data\n",
        "    df = pd.read_csv(CSV_FILE, sep=',')\n",
        "    # 0=Angry, 1=Disgust, 2=Fear, 3=Happy, 4=Sad, 5=Surprise, 6=Neutral\n",
        "    # 0=Neutral, 1=Happy, 2=Sad\n",
        "    df = pd.read_csv(CSV_FILE, sep=',')\n",
        "    print(\"Origin Size:\", len(df))\n",
        "\n",
        "    #drop all angry, disgust, fear, surprise\n",
        "    df.drop(df.loc[df['emotion']==0].index, inplace=True)\n",
        "    df.drop(df.loc[df['emotion']==1].index, inplace=True)\n",
        "    df.drop(df.loc[df['emotion']==2].index, inplace=True)\n",
        "    df.drop(df.loc[df['emotion']==5].index, inplace=True)\n",
        "\n",
        "    #label emotions new\n",
        "    df.loc[df['emotion'] == 3, 'emotion'] = 1\n",
        "    df.loc[df['emotion'] == 4, 'emotion'] = 2\n",
        "    df.loc[df['emotion'] == 6, 'emotion'] = 0\n",
        "    print(\"End Size:\", len(df))\n",
        "    train_df = df[df['Usage'] == 'Training']\n",
        "    eval_df = df[df['Usage'] == 'PublicTest']\n",
        "    return train_df, eval_df"
      ],
      "execution_count": null,
      "outputs": []
    },
    {
      "cell_type": "code",
      "metadata": {
        "id": "pSk3ffk_cwgx"
      },
      "source": [
        "def _preprocess_fer(df,\n",
        "                    label_col='emotion',\n",
        "                    feature_col='pixels'):\n",
        "    labels, features = df.loc[:, label_col].values.astype(np.int32), [\n",
        "        np.fromstring(image, np.float32, sep=' ')\n",
        "        for image in df.loc[:, feature_col].values]\n",
        "    \n",
        "    labels = [to_categorical(l, num_classes=num_classes) for l in labels]\n",
        "\n",
        "    features = np.stack((features,) * 3, axis=-1)\n",
        "    features /= 255\n",
        "    features = features.reshape(features.shape[0], img_width, img_height, 3)\n",
        "\n",
        "    return features, labels"
      ],
      "execution_count": null,
      "outputs": []
    },
    {
      "cell_type": "code",
      "metadata": {
        "colab": {
          "base_uri": "https://localhost:8080/"
        },
        "id": "IRe7TVHycwg5",
        "outputId": "4006159a-9987-468b-8c6a-7d32b8d6ebec"
      },
      "source": [
        "# Load fer data\n",
        "train_df, eval_df = _load_fer()\n",
        "\n",
        "# preprocess fer data\n",
        "x_train, y_train = _preprocess_fer(train_df)\n",
        "x_valid, y_valid = _preprocess_fer(eval_df)"
      ],
      "execution_count": null,
      "outputs": [
        {
          "output_type": "stream",
          "text": [
            "Origin Size: 35887\n",
            "End Size: 21264\n"
          ],
          "name": "stdout"
        }
      ]
    },
    {
      "cell_type": "code",
      "metadata": {
        "colab": {
          "base_uri": "https://localhost:8080/"
        },
        "id": "_F8Z9DVQTnWg",
        "outputId": "4eaa4a5c-e163-44c7-e24d-e2326239549d"
      },
      "source": [
        "print(x_train.shape[0], 'train samples')\n",
        "print(x_valid.shape[0], 'valid samples')"
      ],
      "execution_count": null,
      "outputs": [
        {
          "output_type": "stream",
          "text": [
            "17010 train samples\n",
            "2155 valid samples\n"
          ],
          "name": "stdout"
        }
      ]
    },
    {
      "cell_type": "markdown",
      "metadata": {
        "id": "Wx7h0Pk5cwhJ"
      },
      "source": [
        "## Show train image"
      ]
    },
    {
      "cell_type": "code",
      "metadata": {
        "colab": {
          "base_uri": "https://localhost:8080/",
          "height": 301
        },
        "id": "Cpn71IpVcwhK",
        "outputId": "06f39905-6060-45c4-e667-6d3f7ce7e6f7"
      },
      "source": [
        "img = x_train[24]\n",
        "print(img.shape)\n",
        "plt.imshow(img)\n",
        "plt.show()\n",
        "y_train[24]"
      ],
      "execution_count": null,
      "outputs": [
        {
          "output_type": "stream",
          "text": [
            "(48, 48, 3)\n"
          ],
          "name": "stdout"
        },
        {
          "output_type": "display_data",
          "data": {
            "image/png": "[encoded data removed]",
            "text/plain": [
              "<Figure size 432x288 with 1 Axes>"
            ]
          },
          "metadata": {
            "tags": [],
            "needs_background": "light"
          }
        },
        {
          "output_type": "execute_result",
          "data": {
            "text/plain": [
              "array([0., 0., 1.], dtype=float32)"
            ]
          },
          "metadata": {
            "tags": []
          },
          "execution_count": 9
        }
      ]
    },
    {
      "cell_type": "markdown",
      "metadata": {
        "id": "dz6UlHcgYDkX"
      },
      "source": [
        "## Load images and labels in image generator"
      ]
    },
    {
      "cell_type": "code",
      "metadata": {
        "id": "dFRVMzXvVMWA"
      },
      "source": [
        "gen = ImageDataGenerator(\n",
        "        rotation_range=40,\n",
        "        width_shift_range=0.2,\n",
        "        height_shift_range=0.2,\n",
        "        shear_range=0.2,\n",
        "        zoom_range=0.2,\n",
        "        horizontal_flip=True,\n",
        "        fill_mode='nearest')\n",
        "\n",
        "train_generator = gen.flow(x_train, y_train, batch_size=batch_size)\n",
        "predict_size_train = int(np.math.ceil(len(x_train) / batch_size)) "
      ],
      "execution_count": null,
      "outputs": []
    },
    {
      "cell_type": "code",
      "metadata": {
        "id": "74NTCjIlXlxv"
      },
      "source": [
        "gen = ImageDataGenerator()\n",
        "valid_generator = gen.flow(x_valid, y_valid, batch_size=batch_size)\n",
        "predict_size_valid = int(np.math.ceil(len(x_valid) / batch_size)) "
      ],
      "execution_count": null,
      "outputs": []
    },
    {
      "cell_type": "markdown",
      "metadata": {
        "id": "qGg-PHBwX037"
      },
      "source": [
        "## Define Model with input, output and several layers"
      ]
    },
    {
      "cell_type": "code",
      "metadata": {
        "id": "HM7ZRNFlXzpu"
      },
      "source": [
        "model = Sequential()\n",
        "model.add(Conv2D(32, (3, 3), padding='same', input_shape=(img_width, img_height, 3)))\n",
        "model.add(Activation('relu'))\n",
        "model.add(MaxPooling2D(pool_size=(2, 2)))\n",
        "model.add(Dropout(0.3))\n",
        "\n",
        "model.add(Conv2D(64,(3, 3), padding='same'))\n",
        "model.add(Activation('relu'))\n",
        "model.add(MaxPooling2D(pool_size=(2, 2)))\n",
        "model.add(Dropout(0.3))\n",
        "\n",
        "model.add(Conv2D(128,(3, 3), padding='same'))\n",
        "model.add(Activation('relu'))\n",
        "model.add(MaxPooling2D(pool_size=(2, 2)))\n",
        "model.add(Dropout(0.3))\n",
        "\n",
        "model.add(Flatten())  # this converts our 3D feature maps to 1D feature vectors\n",
        "model.add(Dense(256))\n",
        "model.add(Dropout(0.5))\n",
        "model.add(Dense(num_classes))\n",
        "model.add(Activation('softmax'))"
      ],
      "execution_count": null,
      "outputs": []
    },
    {
      "cell_type": "code",
      "metadata": {
        "colab": {
          "base_uri": "https://localhost:8080/"
        },
        "id": "mVRbmXDOYd20",
        "outputId": "b4529c78-9960-47cb-b1f1-d3b4e0fad12f"
      },
      "source": [
        "model.compile(loss='categorical_crossentropy', optimizer=tf.keras.optimizers.Adam(lr=0.001), metrics=['accuracy'])\n",
        "model.summary()"
      ],
      "execution_count": null,
      "outputs": [
        {
          "output_type": "stream",
          "text": [
            "Model: \"sequential\"\n",
            "_________________________________________________________________\n",
            "Layer (type)                 Output Shape              Param #   \n",
            "=================================================================\n",
            "conv2d (Conv2D)              (None, 48, 48, 32)        896       \n",
            "_________________________________________________________________\n",
            "activation (Activation)      (None, 48, 48, 32)        0         \n",
            "_________________________________________________________________\n",
            "max_pooling2d (MaxPooling2D) (None, 24, 24, 32)        0         \n",
            "_________________________________________________________________\n",
            "dropout (Dropout)            (None, 24, 24, 32)        0         \n",
            "_________________________________________________________________\n",
            "conv2d_1 (Conv2D)            (None, 24, 24, 64)        18496     \n",
            "_________________________________________________________________\n",
            "activation_1 (Activation)    (None, 24, 24, 64)        0         \n",
            "_________________________________________________________________\n",
            "max_pooling2d_1 (MaxPooling2 (None, 12, 12, 64)        0         \n",
            "_________________________________________________________________\n",
            "dropout_1 (Dropout)          (None, 12, 12, 64)        0         \n",
            "_________________________________________________________________\n",
            "conv2d_2 (Conv2D)            (None, 12, 12, 128)       73856     \n",
            "_________________________________________________________________\n",
            "activation_2 (Activation)    (None, 12, 12, 128)       0         \n",
            "_________________________________________________________________\n",
            "max_pooling2d_2 (MaxPooling2 (None, 6, 6, 128)         0         \n",
            "_________________________________________________________________\n",
            "dropout_2 (Dropout)          (None, 6, 6, 128)         0         \n",
            "_________________________________________________________________\n",
            "flatten (Flatten)            (None, 4608)              0         \n",
            "_________________________________________________________________\n",
            "dense (Dense)                (None, 256)               1179904   \n",
            "_________________________________________________________________\n",
            "dropout_3 (Dropout)          (None, 256)               0         \n",
            "_________________________________________________________________\n",
            "dense_1 (Dense)              (None, 3)                 771       \n",
            "_________________________________________________________________\n",
            "activation_3 (Activation)    (None, 3)                 0         \n",
            "=================================================================\n",
            "Total params: 1,273,923\n",
            "Trainable params: 1,273,923\n",
            "Non-trainable params: 0\n",
            "_________________________________________________________________\n"
          ],
          "name": "stdout"
        },
        {
          "output_type": "stream",
          "text": [
            "/usr/local/lib/python3.7/dist-packages/tensorflow/python/keras/optimizer_v2/optimizer_v2.py:375: UserWarning: The `lr` argument is deprecated, use `learning_rate` instead.\n",
            "  \"The `lr` argument is deprecated, use `learning_rate` instead.\")\n"
          ],
          "name": "stderr"
        }
      ]
    },
    {
      "cell_type": "code",
      "metadata": {
        "colab": {
          "base_uri": "https://localhost:8080/",
          "height": 1000
        },
        "id": "dbUuiA8TYhrk",
        "outputId": "a4b38cbb-e420-43dc-c8d9-2334d1da5567"
      },
      "source": [
        "hist = model.fit(train_generator, \n",
        "                    steps_per_epoch=predict_size_train * 1, \n",
        "                    epochs=135,\n",
        "                    validation_data=valid_generator,\n",
        "                    validation_steps=predict_size_valid)\n",
        "model.save('/content/drive/My Drive/models/emotionmodel_final_125_64')\n",
        "import matplotlib.pyplot as plt\n",
        "print(model)\n",
        "plt.plot(hist.history['accuracy'])\n",
        "plt.plot(hist.history['val_accuracy'])\n",
        "plt.title('model accuracy')\n",
        "plt.ylabel('accuracy')\n",
        "plt.xlabel('epoch')\n",
        "plt.legend(['train', 'val'], loc='upper left')\n",
        "plt.show()\n",
        "plt.savefig('/content/drive/My Drive/plt_4.png')"
      ],
      "execution_count": null,
      "outputs": [
        {
          "output_type": "stream",
          "text": [
            "Epoch 1/135\n",
            "266/266 [==============================] - 49s 76ms/step - loss: 1.0876 - accuracy: 0.4220 - val_loss: 1.0776 - val_accuracy: 0.4204\n",
            "Epoch 2/135\n",
            "266/266 [==============================] - 20s 75ms/step - loss: 1.0741 - accuracy: 0.4312 - val_loss: 1.0745 - val_accuracy: 0.4162\n",
            "Epoch 3/135\n",
            "266/266 [==============================] - 20s 75ms/step - loss: 1.0721 - accuracy: 0.4338 - val_loss: 1.0665 - val_accuracy: 0.4334\n",
            "Epoch 4/135\n",
            "266/266 [==============================] - 20s 75ms/step - loss: 1.0700 - accuracy: 0.4340 - val_loss: 1.0641 - val_accuracy: 0.4334\n",
            "Epoch 5/135\n",
            "266/266 [==============================] - 20s 75ms/step - loss: 1.0678 - accuracy: 0.4399 - val_loss: 1.0553 - val_accuracy: 0.4441\n",
            "Epoch 6/135\n",
            "266/266 [==============================] - 20s 75ms/step - loss: 1.0655 - accuracy: 0.4313 - val_loss: 1.0589 - val_accuracy: 0.4343\n",
            "Epoch 7/135\n",
            "266/266 [==============================] - 20s 75ms/step - loss: 1.0658 - accuracy: 0.4365 - val_loss: 1.0550 - val_accuracy: 0.4487\n",
            "Epoch 8/135\n",
            "266/266 [==============================] - 20s 75ms/step - loss: 1.0627 - accuracy: 0.4449 - val_loss: 1.0587 - val_accuracy: 0.4348\n",
            "Epoch 9/135\n",
            "266/266 [==============================] - 20s 75ms/step - loss: 1.0619 - accuracy: 0.4420 - val_loss: 1.0466 - val_accuracy: 0.4506\n",
            "Epoch 10/135\n",
            "266/266 [==============================] - 20s 75ms/step - loss: 1.0599 - accuracy: 0.4422 - val_loss: 1.0476 - val_accuracy: 0.4487\n",
            "Epoch 11/135\n",
            "266/266 [==============================] - 20s 75ms/step - loss: 1.0580 - accuracy: 0.4453 - val_loss: 1.0471 - val_accuracy: 0.4469\n",
            "Epoch 12/135\n",
            "266/266 [==============================] - 20s 74ms/step - loss: 1.0559 - accuracy: 0.4494 - val_loss: 1.0436 - val_accuracy: 0.4501\n",
            "Epoch 13/135\n",
            "266/266 [==============================] - 20s 74ms/step - loss: 1.0571 - accuracy: 0.4511 - val_loss: 1.0413 - val_accuracy: 0.4520\n",
            "Epoch 14/135\n",
            "266/266 [==============================] - 20s 75ms/step - loss: 1.0559 - accuracy: 0.4487 - val_loss: 1.0316 - val_accuracy: 0.4682\n",
            "Epoch 15/135\n",
            "266/266 [==============================] - 20s 74ms/step - loss: 1.0531 - accuracy: 0.4549 - val_loss: 1.0298 - val_accuracy: 0.4636\n",
            "Epoch 16/135\n",
            "266/266 [==============================] - 20s 75ms/step - loss: 1.0536 - accuracy: 0.4552 - val_loss: 1.0168 - val_accuracy: 0.4835\n",
            "Epoch 17/135\n",
            "266/266 [==============================] - 19s 73ms/step - loss: 1.0511 - accuracy: 0.4531 - val_loss: 1.0300 - val_accuracy: 0.4636\n",
            "Epoch 18/135\n",
            "266/266 [==============================] - 19s 73ms/step - loss: 1.0517 - accuracy: 0.4560 - val_loss: 1.0320 - val_accuracy: 0.4599\n",
            "Epoch 19/135\n",
            "266/266 [==============================] - 20s 74ms/step - loss: 1.0447 - accuracy: 0.4633 - val_loss: 1.0174 - val_accuracy: 0.4826\n",
            "Epoch 20/135\n",
            "266/266 [==============================] - 20s 75ms/step - loss: 1.0445 - accuracy: 0.4660 - val_loss: 1.0082 - val_accuracy: 0.4812\n",
            "Epoch 21/135\n",
            "266/266 [==============================] - 20s 75ms/step - loss: 1.0454 - accuracy: 0.4633 - val_loss: 1.0072 - val_accuracy: 0.4817\n",
            "Epoch 22/135\n",
            "266/266 [==============================] - 20s 75ms/step - loss: 1.0423 - accuracy: 0.4631 - val_loss: 1.0058 - val_accuracy: 0.4659\n",
            "Epoch 23/135\n",
            "266/266 [==============================] - 20s 75ms/step - loss: 1.0416 - accuracy: 0.4653 - val_loss: 0.9757 - val_accuracy: 0.5206\n",
            "Epoch 24/135\n",
            "266/266 [==============================] - 20s 75ms/step - loss: 1.0328 - accuracy: 0.4724 - val_loss: 0.9647 - val_accuracy: 0.5271\n",
            "Epoch 25/135\n",
            "266/266 [==============================] - 20s 74ms/step - loss: 1.0287 - accuracy: 0.4732 - val_loss: 0.9504 - val_accuracy: 0.5123\n",
            "Epoch 26/135\n",
            "266/266 [==============================] - 20s 75ms/step - loss: 1.0177 - accuracy: 0.4854 - val_loss: 0.9497 - val_accuracy: 0.5253\n",
            "Epoch 27/135\n",
            "266/266 [==============================] - 20s 75ms/step - loss: 1.0127 - accuracy: 0.4847 - val_loss: 0.9215 - val_accuracy: 0.5527\n",
            "Epoch 28/135\n",
            "266/266 [==============================] - 20s 75ms/step - loss: 1.0107 - accuracy: 0.4860 - val_loss: 0.9169 - val_accuracy: 0.5545\n",
            "Epoch 29/135\n",
            "266/266 [==============================] - 20s 75ms/step - loss: 1.0001 - accuracy: 0.4955 - val_loss: 0.8794 - val_accuracy: 0.5749\n",
            "Epoch 30/135\n",
            "266/266 [==============================] - 20s 74ms/step - loss: 0.9974 - accuracy: 0.4991 - val_loss: 0.8758 - val_accuracy: 0.5833\n",
            "Epoch 31/135\n",
            "266/266 [==============================] - 20s 74ms/step - loss: 0.9889 - accuracy: 0.5032 - val_loss: 0.8641 - val_accuracy: 0.5814\n",
            "Epoch 32/135\n",
            "266/266 [==============================] - 20s 75ms/step - loss: 0.9848 - accuracy: 0.5086 - val_loss: 0.8641 - val_accuracy: 0.5740\n",
            "Epoch 33/135\n",
            "266/266 [==============================] - 20s 75ms/step - loss: 0.9760 - accuracy: 0.5114 - val_loss: 0.8666 - val_accuracy: 0.5768\n",
            "Epoch 34/135\n",
            "266/266 [==============================] - 20s 75ms/step - loss: 0.9741 - accuracy: 0.5149 - val_loss: 0.8452 - val_accuracy: 0.5814\n",
            "Epoch 35/135\n",
            "266/266 [==============================] - 20s 75ms/step - loss: 0.9652 - accuracy: 0.5180 - val_loss: 0.8099 - val_accuracy: 0.6200\n",
            "Epoch 36/135\n",
            "266/266 [==============================] - 19s 73ms/step - loss: 0.9584 - accuracy: 0.5270 - val_loss: 0.8285 - val_accuracy: 0.5916\n",
            "Epoch 37/135\n",
            "266/266 [==============================] - 20s 75ms/step - loss: 0.9551 - accuracy: 0.5286 - val_loss: 0.7991 - val_accuracy: 0.6320\n",
            "Epoch 38/135\n",
            "266/266 [==============================] - 20s 74ms/step - loss: 0.9493 - accuracy: 0.5317 - val_loss: 0.7943 - val_accuracy: 0.6251\n",
            "Epoch 39/135\n",
            "266/266 [==============================] - 20s 75ms/step - loss: 0.9448 - accuracy: 0.5290 - val_loss: 0.7933 - val_accuracy: 0.6288\n",
            "Epoch 40/135\n",
            "266/266 [==============================] - 20s 75ms/step - loss: 0.9378 - accuracy: 0.5382 - val_loss: 0.8207 - val_accuracy: 0.6111\n",
            "Epoch 41/135\n",
            "266/266 [==============================] - 20s 75ms/step - loss: 0.9302 - accuracy: 0.5431 - val_loss: 0.7807 - val_accuracy: 0.6353\n",
            "Epoch 42/135\n",
            "266/266 [==============================] - 20s 75ms/step - loss: 0.9283 - accuracy: 0.5501 - val_loss: 0.7709 - val_accuracy: 0.6450\n",
            "Epoch 43/135\n",
            "266/266 [==============================] - 20s 76ms/step - loss: 0.9191 - accuracy: 0.5482 - val_loss: 0.8016 - val_accuracy: 0.6162\n",
            "Epoch 44/135\n",
            "266/266 [==============================] - 20s 75ms/step - loss: 0.9187 - accuracy: 0.5520 - val_loss: 0.7785 - val_accuracy: 0.6288\n",
            "Epoch 45/135\n",
            "266/266 [==============================] - 20s 74ms/step - loss: 0.9098 - accuracy: 0.5545 - val_loss: 0.7779 - val_accuracy: 0.6418\n",
            "Epoch 46/135\n",
            "266/266 [==============================] - 20s 75ms/step - loss: 0.9005 - accuracy: 0.5626 - val_loss: 0.7707 - val_accuracy: 0.6436\n",
            "Epoch 47/135\n",
            "266/266 [==============================] - 20s 74ms/step - loss: 0.9012 - accuracy: 0.5581 - val_loss: 0.7646 - val_accuracy: 0.6311\n",
            "Epoch 48/135\n",
            "266/266 [==============================] - 19s 73ms/step - loss: 0.9005 - accuracy: 0.5645 - val_loss: 0.7547 - val_accuracy: 0.6580\n",
            "Epoch 49/135\n",
            "266/266 [==============================] - 20s 74ms/step - loss: 0.8915 - accuracy: 0.5663 - val_loss: 0.7695 - val_accuracy: 0.6445\n",
            "Epoch 50/135\n",
            "266/266 [==============================] - 20s 74ms/step - loss: 0.8892 - accuracy: 0.5671 - val_loss: 0.7590 - val_accuracy: 0.6497\n",
            "Epoch 51/135\n",
            "266/266 [==============================] - 19s 73ms/step - loss: 0.8914 - accuracy: 0.5723 - val_loss: 0.7443 - val_accuracy: 0.6622\n",
            "Epoch 52/135\n",
            "266/266 [==============================] - 20s 74ms/step - loss: 0.8879 - accuracy: 0.5699 - val_loss: 0.7501 - val_accuracy: 0.6608\n",
            "Epoch 53/135\n",
            "266/266 [==============================] - 20s 74ms/step - loss: 0.8816 - accuracy: 0.5761 - val_loss: 0.7685 - val_accuracy: 0.6422\n",
            "Epoch 54/135\n",
            "266/266 [==============================] - 20s 73ms/step - loss: 0.8778 - accuracy: 0.5798 - val_loss: 0.7598 - val_accuracy: 0.6538\n",
            "Epoch 55/135\n",
            "266/266 [==============================] - 20s 73ms/step - loss: 0.8777 - accuracy: 0.5791 - val_loss: 0.7893 - val_accuracy: 0.6404\n",
            "Epoch 56/135\n",
            "266/266 [==============================] - 20s 73ms/step - loss: 0.8789 - accuracy: 0.5784 - val_loss: 0.7367 - val_accuracy: 0.6710\n",
            "Epoch 57/135\n",
            "266/266 [==============================] - 19s 73ms/step - loss: 0.8700 - accuracy: 0.5855 - val_loss: 0.7411 - val_accuracy: 0.6701\n",
            "Epoch 58/135\n",
            "266/266 [==============================] - 19s 73ms/step - loss: 0.8721 - accuracy: 0.5770 - val_loss: 0.7527 - val_accuracy: 0.6589\n",
            "Epoch 59/135\n",
            "266/266 [==============================] - 19s 71ms/step - loss: 0.8644 - accuracy: 0.5895 - val_loss: 0.7427 - val_accuracy: 0.6738\n",
            "Epoch 60/135\n",
            "266/266 [==============================] - 19s 71ms/step - loss: 0.8633 - accuracy: 0.5901 - val_loss: 0.7346 - val_accuracy: 0.6589\n",
            "Epoch 61/135\n",
            "266/266 [==============================] - 19s 71ms/step - loss: 0.8627 - accuracy: 0.5878 - val_loss: 0.7412 - val_accuracy: 0.6654\n",
            "Epoch 62/135\n",
            "266/266 [==============================] - 19s 71ms/step - loss: 0.8591 - accuracy: 0.5910 - val_loss: 0.7249 - val_accuracy: 0.6803\n",
            "Epoch 63/135\n",
            "266/266 [==============================] - 19s 72ms/step - loss: 0.8609 - accuracy: 0.5896 - val_loss: 0.7293 - val_accuracy: 0.6766\n",
            "Epoch 64/135\n",
            "266/266 [==============================] - 19s 72ms/step - loss: 0.8560 - accuracy: 0.5871 - val_loss: 0.7414 - val_accuracy: 0.6659\n",
            "Epoch 65/135\n",
            "266/266 [==============================] - 20s 73ms/step - loss: 0.8598 - accuracy: 0.5932 - val_loss: 0.7495 - val_accuracy: 0.6571\n",
            "Epoch 66/135\n",
            "266/266 [==============================] - 20s 73ms/step - loss: 0.8572 - accuracy: 0.5907 - val_loss: 0.7255 - val_accuracy: 0.6742\n",
            "Epoch 67/135\n",
            "266/266 [==============================] - 20s 73ms/step - loss: 0.8529 - accuracy: 0.5914 - val_loss: 0.7431 - val_accuracy: 0.6710\n",
            "Epoch 68/135\n",
            "266/266 [==============================] - 20s 74ms/step - loss: 0.8518 - accuracy: 0.5976 - val_loss: 0.7503 - val_accuracy: 0.6682\n",
            "Epoch 69/135\n",
            "266/266 [==============================] - 20s 74ms/step - loss: 0.8465 - accuracy: 0.5992 - val_loss: 0.7397 - val_accuracy: 0.6687\n",
            "Epoch 70/135\n",
            "266/266 [==============================] - 20s 75ms/step - loss: 0.8449 - accuracy: 0.6014 - val_loss: 0.7321 - val_accuracy: 0.6747\n",
            "Epoch 71/135\n",
            "266/266 [==============================] - 20s 74ms/step - loss: 0.8470 - accuracy: 0.5985 - val_loss: 0.7200 - val_accuracy: 0.6872\n",
            "Epoch 72/135\n",
            "266/266 [==============================] - 20s 74ms/step - loss: 0.8472 - accuracy: 0.6024 - val_loss: 0.7573 - val_accuracy: 0.6524\n",
            "Epoch 73/135\n",
            "266/266 [==============================] - 20s 74ms/step - loss: 0.8469 - accuracy: 0.5956 - val_loss: 0.7376 - val_accuracy: 0.6650\n",
            "Epoch 74/135\n",
            "266/266 [==============================] - 20s 74ms/step - loss: 0.8474 - accuracy: 0.5987 - val_loss: 0.7318 - val_accuracy: 0.6659\n",
            "Epoch 75/135\n",
            "266/266 [==============================] - 20s 75ms/step - loss: 0.8423 - accuracy: 0.6029 - val_loss: 0.7366 - val_accuracy: 0.6710\n",
            "Epoch 76/135\n",
            "266/266 [==============================] - 20s 75ms/step - loss: 0.8426 - accuracy: 0.6006 - val_loss: 0.7240 - val_accuracy: 0.6719\n",
            "Epoch 77/135\n",
            "266/266 [==============================] - 20s 74ms/step - loss: 0.8479 - accuracy: 0.5961 - val_loss: 0.7675 - val_accuracy: 0.6478\n",
            "Epoch 78/135\n",
            "266/266 [==============================] - 20s 74ms/step - loss: 0.8415 - accuracy: 0.6018 - val_loss: 0.7465 - val_accuracy: 0.6552\n",
            "Epoch 79/135\n",
            "266/266 [==============================] - 20s 75ms/step - loss: 0.8314 - accuracy: 0.6120 - val_loss: 0.6941 - val_accuracy: 0.7002\n",
            "Epoch 80/135\n",
            "266/266 [==============================] - 20s 75ms/step - loss: 0.8336 - accuracy: 0.6078 - val_loss: 0.7492 - val_accuracy: 0.6575\n",
            "Epoch 81/135\n",
            "266/266 [==============================] - 20s 75ms/step - loss: 0.8315 - accuracy: 0.6066 - val_loss: 0.7409 - val_accuracy: 0.6571\n",
            "Epoch 82/135\n",
            "266/266 [==============================] - 20s 74ms/step - loss: 0.8311 - accuracy: 0.6128 - val_loss: 0.7205 - val_accuracy: 0.6882\n",
            "Epoch 83/135\n",
            "266/266 [==============================] - 19s 73ms/step - loss: 0.8317 - accuracy: 0.6122 - val_loss: 0.7231 - val_accuracy: 0.6812\n",
            "Epoch 84/135\n",
            "266/266 [==============================] - 19s 73ms/step - loss: 0.8266 - accuracy: 0.6180 - val_loss: 0.7048 - val_accuracy: 0.6775\n",
            "Epoch 85/135\n",
            "266/266 [==============================] - 19s 73ms/step - loss: 0.8293 - accuracy: 0.6108 - val_loss: 0.7253 - val_accuracy: 0.6803\n",
            "Epoch 86/135\n",
            "266/266 [==============================] - 19s 73ms/step - loss: 0.8310 - accuracy: 0.6123 - val_loss: 0.7244 - val_accuracy: 0.6756\n",
            "Epoch 87/135\n",
            "266/266 [==============================] - 19s 72ms/step - loss: 0.8247 - accuracy: 0.6109 - val_loss: 0.7361 - val_accuracy: 0.6715\n",
            "Epoch 88/135\n",
            "266/266 [==============================] - 19s 72ms/step - loss: 0.8340 - accuracy: 0.6098 - val_loss: 0.7293 - val_accuracy: 0.6770\n",
            "Epoch 89/135\n",
            "266/266 [==============================] - 19s 73ms/step - loss: 0.8268 - accuracy: 0.6135 - val_loss: 0.7051 - val_accuracy: 0.6900\n",
            "Epoch 90/135\n",
            "266/266 [==============================] - 19s 73ms/step - loss: 0.8217 - accuracy: 0.6206 - val_loss: 0.7090 - val_accuracy: 0.6858\n",
            "Epoch 91/135\n",
            "266/266 [==============================] - 19s 73ms/step - loss: 0.8231 - accuracy: 0.6103 - val_loss: 0.7136 - val_accuracy: 0.6780\n",
            "Epoch 92/135\n",
            "266/266 [==============================] - 19s 72ms/step - loss: 0.8233 - accuracy: 0.6122 - val_loss: 0.7295 - val_accuracy: 0.6729\n",
            "Epoch 93/135\n",
            "266/266 [==============================] - 19s 73ms/step - loss: 0.8240 - accuracy: 0.6131 - val_loss: 0.7305 - val_accuracy: 0.6821\n",
            "Epoch 94/135\n",
            "266/266 [==============================] - 19s 72ms/step - loss: 0.8267 - accuracy: 0.6132 - val_loss: 0.7090 - val_accuracy: 0.6914\n",
            "Epoch 95/135\n",
            "266/266 [==============================] - 19s 72ms/step - loss: 0.8278 - accuracy: 0.6123 - val_loss: 0.7286 - val_accuracy: 0.6794\n",
            "Epoch 96/135\n",
            "266/266 [==============================] - 19s 72ms/step - loss: 0.8197 - accuracy: 0.6197 - val_loss: 0.7055 - val_accuracy: 0.6965\n",
            "Epoch 97/135\n",
            "266/266 [==============================] - 19s 72ms/step - loss: 0.8194 - accuracy: 0.6172 - val_loss: 0.7277 - val_accuracy: 0.6742\n",
            "Epoch 98/135\n",
            "266/266 [==============================] - 19s 73ms/step - loss: 0.8201 - accuracy: 0.6199 - val_loss: 0.6954 - val_accuracy: 0.6891\n",
            "Epoch 99/135\n",
            "266/266 [==============================] - 19s 71ms/step - loss: 0.8072 - accuracy: 0.6186 - val_loss: 0.7311 - val_accuracy: 0.6905\n",
            "Epoch 100/135\n",
            "266/266 [==============================] - 19s 73ms/step - loss: 0.8120 - accuracy: 0.6267 - val_loss: 0.7172 - val_accuracy: 0.6817\n",
            "Epoch 101/135\n",
            "266/266 [==============================] - 19s 72ms/step - loss: 0.8124 - accuracy: 0.6222 - val_loss: 0.7155 - val_accuracy: 0.6919\n",
            "Epoch 102/135\n",
            "266/266 [==============================] - 19s 71ms/step - loss: 0.8169 - accuracy: 0.6193 - val_loss: 0.7031 - val_accuracy: 0.6831\n",
            "Epoch 103/135\n",
            "266/266 [==============================] - 19s 72ms/step - loss: 0.8113 - accuracy: 0.6261 - val_loss: 0.7244 - val_accuracy: 0.6789\n",
            "Epoch 104/135\n",
            "266/266 [==============================] - 19s 72ms/step - loss: 0.8165 - accuracy: 0.6221 - val_loss: 0.6984 - val_accuracy: 0.6900\n",
            "Epoch 105/135\n",
            "266/266 [==============================] - 19s 72ms/step - loss: 0.8053 - accuracy: 0.6250 - val_loss: 0.7229 - val_accuracy: 0.6863\n",
            "Epoch 106/135\n",
            "266/266 [==============================] - 19s 73ms/step - loss: 0.7987 - accuracy: 0.6286 - val_loss: 0.6896 - val_accuracy: 0.6845\n",
            "Epoch 107/135\n",
            "266/266 [==============================] - 20s 73ms/step - loss: 0.8194 - accuracy: 0.6199 - val_loss: 0.7187 - val_accuracy: 0.6821\n",
            "Epoch 108/135\n",
            "266/266 [==============================] - 20s 74ms/step - loss: 0.8153 - accuracy: 0.6145 - val_loss: 0.6955 - val_accuracy: 0.6942\n",
            "Epoch 109/135\n",
            "266/266 [==============================] - 20s 74ms/step - loss: 0.8055 - accuracy: 0.6250 - val_loss: 0.6769 - val_accuracy: 0.7016\n",
            "Epoch 110/135\n",
            "266/266 [==============================] - 20s 74ms/step - loss: 0.8047 - accuracy: 0.6218 - val_loss: 0.6936 - val_accuracy: 0.6984\n",
            "Epoch 111/135\n",
            "266/266 [==============================] - 20s 73ms/step - loss: 0.8149 - accuracy: 0.6233 - val_loss: 0.6873 - val_accuracy: 0.7021\n",
            "Epoch 112/135\n",
            "266/266 [==============================] - 20s 76ms/step - loss: 0.8071 - accuracy: 0.6226 - val_loss: 0.7032 - val_accuracy: 0.6877\n",
            "Epoch 113/135\n",
            "266/266 [==============================] - 20s 75ms/step - loss: 0.8079 - accuracy: 0.6272 - val_loss: 0.7041 - val_accuracy: 0.6863\n",
            "Epoch 114/135\n",
            "266/266 [==============================] - 20s 74ms/step - loss: 0.8035 - accuracy: 0.6283 - val_loss: 0.7254 - val_accuracy: 0.6882\n",
            "Epoch 115/135\n",
            "266/266 [==============================] - 20s 74ms/step - loss: 0.8031 - accuracy: 0.6271 - val_loss: 0.6962 - val_accuracy: 0.6914\n",
            "Epoch 116/135\n",
            "266/266 [==============================] - 19s 73ms/step - loss: 0.8054 - accuracy: 0.6242 - val_loss: 0.7090 - val_accuracy: 0.6826\n",
            "Epoch 117/135\n",
            "266/266 [==============================] - 19s 72ms/step - loss: 0.8050 - accuracy: 0.6263 - val_loss: 0.6855 - val_accuracy: 0.6984\n",
            "Epoch 118/135\n",
            "266/266 [==============================] - 19s 73ms/step - loss: 0.8054 - accuracy: 0.6277 - val_loss: 0.6877 - val_accuracy: 0.6891\n",
            "Epoch 119/135\n",
            "266/266 [==============================] - 19s 72ms/step - loss: 0.7998 - accuracy: 0.6315 - val_loss: 0.6893 - val_accuracy: 0.6965\n",
            "Epoch 120/135\n",
            "266/266 [==============================] - 19s 73ms/step - loss: 0.7980 - accuracy: 0.6304 - val_loss: 0.6974 - val_accuracy: 0.6988\n",
            "Epoch 121/135\n",
            "266/266 [==============================] - 19s 72ms/step - loss: 0.8027 - accuracy: 0.6267 - val_loss: 0.7064 - val_accuracy: 0.6872\n",
            "Epoch 122/135\n",
            "266/266 [==============================] - 19s 72ms/step - loss: 0.7932 - accuracy: 0.6290 - val_loss: 0.6981 - val_accuracy: 0.6858\n",
            "Epoch 123/135\n",
            "266/266 [==============================] - 19s 73ms/step - loss: 0.8050 - accuracy: 0.6282 - val_loss: 0.6921 - val_accuracy: 0.6923\n",
            "Epoch 124/135\n",
            "266/266 [==============================] - 19s 72ms/step - loss: 0.8075 - accuracy: 0.6276 - val_loss: 0.7171 - val_accuracy: 0.6803\n",
            "Epoch 125/135\n",
            "266/266 [==============================] - 19s 73ms/step - loss: 0.7997 - accuracy: 0.6272 - val_loss: 0.7251 - val_accuracy: 0.6705\n",
            "Epoch 126/135\n",
            "266/266 [==============================] - 19s 71ms/step - loss: 0.7945 - accuracy: 0.6320 - val_loss: 0.6894 - val_accuracy: 0.6988\n",
            "Epoch 127/135\n",
            "266/266 [==============================] - 19s 73ms/step - loss: 0.7992 - accuracy: 0.6256 - val_loss: 0.7102 - val_accuracy: 0.6858\n",
            "Epoch 128/135\n",
            "266/266 [==============================] - 19s 72ms/step - loss: 0.7965 - accuracy: 0.6323 - val_loss: 0.7156 - val_accuracy: 0.6835\n",
            "Epoch 129/135\n",
            "266/266 [==============================] - 19s 72ms/step - loss: 0.7990 - accuracy: 0.6305 - val_loss: 0.7106 - val_accuracy: 0.6826\n",
            "Epoch 130/135\n",
            "266/266 [==============================] - 19s 73ms/step - loss: 0.8000 - accuracy: 0.6310 - val_loss: 0.6924 - val_accuracy: 0.6937\n",
            "Epoch 131/135\n",
            "266/266 [==============================] - 19s 73ms/step - loss: 0.7943 - accuracy: 0.6329 - val_loss: 0.6860 - val_accuracy: 0.6974\n",
            "Epoch 132/135\n",
            "266/266 [==============================] - 19s 73ms/step - loss: 0.8036 - accuracy: 0.6308 - val_loss: 0.6829 - val_accuracy: 0.6993\n",
            "Epoch 133/135\n",
            "266/266 [==============================] - 19s 72ms/step - loss: 0.7988 - accuracy: 0.6353 - val_loss: 0.7005 - val_accuracy: 0.6798\n",
            "Epoch 134/135\n",
            "266/266 [==============================] - 19s 73ms/step - loss: 0.7937 - accuracy: 0.6352 - val_loss: 0.6850 - val_accuracy: 0.7012\n",
            "Epoch 135/135\n",
            "266/266 [==============================] - 20s 73ms/step - loss: 0.7905 - accuracy: 0.6329 - val_loss: 0.6950 - val_accuracy: 0.6974\n",
            "INFO:tensorflow:Assets written to: /content/drive/My Drive/models/emotionmodel_final_125_64/assets\n",
            "<tensorflow.python.keras.engine.sequential.Sequential object at 0x7fc8d733d390>\n"
          ],
          "name": "stdout"
        },
        {
          "output_type": "display_data",
          "data": {
            "image/png": "[encoded data removed]",
            "text/plain": [
              "<Figure size 432x288 with 1 Axes>"
            ]
          },
          "metadata": {
            "tags": [],
            "needs_background": "light"
          }
        },
        {
          "output_type": "display_data",
          "data": {
            "text/plain": [
              "<Figure size 432x288 with 0 Axes>"
            ]
          },
          "metadata": {
            "tags": []
          }
        }
      ]
    },
    {
      "cell_type": "markdown",
      "metadata": {
        "id": "ZFjUNCL7obN2"
      },
      "source": [
        "# Create Confusion Matrix"
      ]
    },
    {
      "cell_type": "code",
      "metadata": {
        "id": "xSFTSDh6Eg7b"
      },
      "source": [
        "from sklearn.metrics import confusion_matrix\n",
        "x_valid, y_valid\n",
        "y_pred = model.predict(x_valid)\n",
        "predicted_category = tf.argmax(y_pred, axis=1)\n",
        "true_category = tf.argmax(y_valid, axis=1)\n",
        "\n",
        "confm = confusion_matrix(predicted_category, true_category)"
      ],
      "execution_count": null,
      "outputs": []
    },
    {
      "cell_type": "code",
      "metadata": {
        "id": "E5PotTQ0Eg7b"
      },
      "source": [
        "import numpy as np\n",
        "import matplotlib.pyplot as plt\n",
        "import numpy as np\n",
        "import itertools\n",
        "\n",
        "def plot_confusion_matrix(cm,\n",
        "                      target_names,\n",
        "                      title='Confusion matrix',\n",
        "                      cmap=None,\n",
        "                      normalize=True):\n",
        "    accuracy = np.trace(cm) / float(np.sum(cm))\n",
        "    misclass = 1 - accuracy\n",
        "\n",
        "    if cmap is None:\n",
        "        cmap = plt.get_cmap('Blues')\n",
        "\n",
        "    plt.figure(figsize=(8, 6))\n",
        "    plt.imshow(cm, interpolation='nearest', cmap=cmap)\n",
        "    plt.title(title)\n",
        "    plt.colorbar()\n",
        "\n",
        "    if target_names is not None:\n",
        "        tick_marks = np.arange(len(target_names))\n",
        "        plt.xticks(tick_marks, target_names, rotation=45)\n",
        "        plt.yticks(tick_marks, target_names)\n",
        "\n",
        "    if normalize:\n",
        "        cm = cm.astype('float') / cm.sum(axis=1)[:, np.newaxis]\n",
        "\n",
        "\n",
        "    thresh = cm.max() / 1.5 if normalize else cm.max() / 2\n",
        "    for i, j in itertools.product(range(cm.shape[0]), range(cm.shape[1])):\n",
        "        if normalize:\n",
        "            plt.text(j, i, \"{:0.4f}\".format(cm[i, j]),\n",
        "                      horizontalalignment=\"center\",\n",
        "                      color=\"white\" if cm[i, j] > thresh else \"black\")\n",
        "        else:\n",
        "            plt.text(j, i, \"{:,}\".format(cm[i, j]),\n",
        "                      horizontalalignment=\"center\",\n",
        "                      color=\"white\" if cm[i, j] > thresh else \"black\")\n",
        "\n",
        "\n",
        "    plt.tight_layout()\n",
        "    plt.ylabel('True label')\n",
        "    plt.xlabel('Predicted label\\naccuracy={:0.4f}; misclass={:0.4f}'.format(accuracy, misclass))\n",
        "    plt.show()"
      ],
      "execution_count": null,
      "outputs": []
    },
    {
      "cell_type": "code",
      "metadata": {
        "id": "yHIi7W0MP-Aw"
      },
      "source": [
        "plot_confusion_matrix(cm = confm, \n",
        "                      normalize   = False,\n",
        "                      target_names = ['neutral', 'happy', 'sad'],\n",
        "                      title        = \"Confusion Matrix\")"
      ],
      "execution_count": null,
      "outputs": []
    }
  ]
}